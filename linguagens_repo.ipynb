{
 "cells": [
  {
   "cell_type": "code",
   "execution_count": null,
   "metadata": {},
   "outputs": [],
   "source": [
    "import requests\n",
    "# do a get request to the github api\n",
    "r = requests.get('http://api.github.com/events')\n",
    "\n",
    "# for standard output, print the status code of the response\n",
    "r"
   ]
  },
  {
   "cell_type": "code",
   "execution_count": null,
   "metadata": {},
   "outputs": [],
   "source": [
    "# show the content of the response\n",
    "r.json()"
   ]
  },
  {
   "cell_type": "code",
   "execution_count": null,
   "metadata": {},
   "outputs": [],
   "source": [
    "# in github api, we can see the version of the api changing the endpoint\n",
    "r = requests.get('https://api.github.com/versions')\n",
    "\n",
    "# parameter that shows the status code\n",
    "r.status_code"
   ]
  },
  {
   "cell_type": "code",
   "execution_count": null,
   "metadata": {},
   "outputs": [],
   "source": [
    "# show de version of the api\n",
    "r.json()"
   ]
  },
  {
   "cell_type": "code",
   "execution_count": null,
   "metadata": {},
   "outputs": [],
   "source": [
    "# show the url of the request\n",
    "r.url"
   ]
  },
  {
   "cell_type": "code",
   "execution_count": null,
   "metadata": {},
   "outputs": [],
   "source": [
    "# full url to request\n",
    "api_base_url = 'https://api.github.com'\n",
    "user = 'amzn'\n",
    "endpoint = 'repos'\n",
    "url = f'{api_base_url}/users/{user}/{endpoint}'\n",
    "url"
   ]
  },
  {
   "cell_type": "code",
   "execution_count": null,
   "metadata": {},
   "outputs": [],
   "source": [
    "# to do more requests on the github API, a token is needed, it's provided in 'dev_settings' option from github site  \n",
    "from private_config import PRIVATE_TOKEN\n",
    "token = f'Bearer {PRIVATE_TOKEN}'\n",
    "version = '2022-11-28'\n",
    "headers = {}\n",
    "\n",
    "headers['X-GitHub-Api-Version'] = version\n",
    "headers['Authorization'] = token\n",
    "\n",
    "r = requests.get(url, headers=headers)\n",
    "r"
   ]
  },
  {
   "cell_type": "code",
   "execution_count": null,
   "metadata": {},
   "outputs": [],
   "source": [
    "len(r.json())"
   ]
  },
  {
   "cell_type": "code",
   "execution_count": null,
   "metadata": {},
   "outputs": [],
   "source": [
    "# request all pages from api\n",
    "\n",
    "repos_list = []\n",
    "repos_qtd = 0\n",
    "last_page = False\n",
    "page = 1\n",
    "\n",
    "while (last_page == False):\n",
    "\n",
    "    try:\n",
    "        # try requesting\n",
    "        url_page = f'{url}?page={page}'\n",
    "        res = requests.get(url_page, headers=headers).json()\n",
    "\n",
    "        # stop criteria\n",
    "        if not res:\n",
    "            last_page = True\n",
    "        else:\n",
    "            repos_list.append(res)\n",
    "            page += 1\n",
    "\n",
    "    except:\n",
    "        last_page = True\n",
    "\n",
    "\n",
    "# count how many repositories the api has\n",
    "for i in range(0, len(repos_list)):\n",
    "    repos_qtd += len(repos_list[i])\n",
    "\n",
    "print(f'''\n",
    "qtd de paginas: {len(repos_list)}\n",
    "qtd de repositorios: {repos_qtd}''')"
   ]
  }
 ],
 "metadata": {
  "kernelspec": {
   "display_name": ".venv",
   "language": "python",
   "name": "python3"
  },
  "language_info": {
   "codemirror_mode": {
    "name": "ipython",
    "version": 3
   },
   "file_extension": ".py",
   "mimetype": "text/x-python",
   "name": "python",
   "nbconvert_exporter": "python",
   "pygments_lexer": "ipython3",
   "version": "3.10.12"
  }
 },
 "nbformat": 4,
 "nbformat_minor": 2
}
