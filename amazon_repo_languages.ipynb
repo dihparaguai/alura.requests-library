{
 "cells": [
  {
   "cell_type": "code",
   "execution_count": null,
   "metadata": {},
   "outputs": [],
   "source": [
    "import requests\n",
    "# do a get request to the github api\n",
    "r = requests.get('http://api.github.com/events')\n",
    "\n",
    "# for standard output, print the status code of the response\n",
    "r"
   ]
  },
  {
   "cell_type": "code",
   "execution_count": null,
   "metadata": {},
   "outputs": [],
   "source": [
    "# show the content of the response\n",
    "r.json()"
   ]
  },
  {
   "cell_type": "code",
   "execution_count": null,
   "metadata": {},
   "outputs": [],
   "source": [
    "# in github api, we can see the version of the api changing the endpoint\n",
    "r = requests.get('https://api.github.com/versions')\n",
    "\n",
    "# parameter that shows the status code\n",
    "r.status_code"
   ]
  },
  {
   "cell_type": "code",
   "execution_count": null,
   "metadata": {},
   "outputs": [],
   "source": [
    "# show de version of the api\n",
    "r.json()"
   ]
  },
  {
   "cell_type": "code",
   "execution_count": null,
   "metadata": {},
   "outputs": [],
   "source": [
    "# show the url of the request\n",
    "r.url"
   ]
  },
  {
   "cell_type": "code",
   "execution_count": null,
   "metadata": {},
   "outputs": [],
   "source": [
    "# full url to request\n",
    "api_base_url = 'https://api.github.com'\n",
    "endpoint = 'users/amzn/repos'\n",
    "url = f'{api_base_url}/{endpoint}'\n",
    "url"
   ]
  },
  {
   "cell_type": "code",
   "execution_count": null,
   "metadata": {},
   "outputs": [],
   "source": [
    "# to do more requests on the github API, a token is needed, it's provided in 'dev_settings' option from github site  \n",
    "from my_config import PRIVATE_TOKEN\n",
    "token = f'Bearer {PRIVATE_TOKEN}'\n",
    "version = '2022-11-28'\n",
    "headers = {}\n",
    "\n",
    "headers['X-GitHub-Api-Version'] = version\n",
    "headers['Authorization'] = token\n",
    "\n",
    "r = requests.get(url, headers=headers)\n",
    "r"
   ]
  },
  {
   "cell_type": "code",
   "execution_count": null,
   "metadata": {},
   "outputs": [],
   "source": [
    "# how many repositories the amazon has in the first page\n",
    "len(r.json())"
   ]
  },
  {
   "cell_type": "code",
   "execution_count": null,
   "metadata": {},
   "outputs": [],
   "source": [
    "# request all pages from api\n",
    "\n",
    "repos_list = []\n",
    "repos_qtd = 0\n",
    "last_page = False\n",
    "page = 1\n",
    "\n",
    "while (last_page == False):\n",
    "\n",
    "    try:\n",
    "        # try requesting\n",
    "        url_page = f'{url}?page={page}'\n",
    "        res = requests.get(url_page, headers=headers).json()\n",
    "\n",
    "        # stop criteria\n",
    "        if not res:\n",
    "            last_page = True\n",
    "        else:\n",
    "            repos_list.append(res)\n",
    "            page += 1\n",
    "\n",
    "    except:\n",
    "        last_page = True\n",
    "\n",
    "\n",
    "# count how many repositories the api has\n",
    "for i in range(0, len(repos_list)):\n",
    "    repos_qtd += len(repos_list[i])\n",
    "\n",
    "print(f'''\n",
    "qtd de paginas: {len(repos_list)}\n",
    "qtd de repositorios: {repos_qtd}''')"
   ]
  },
  {
   "cell_type": "code",
   "execution_count": null,
   "metadata": {},
   "outputs": [],
   "source": [
    "repos_list[0][0]['name']"
   ]
  },
  {
   "cell_type": "code",
   "execution_count": null,
   "metadata": {},
   "outputs": [],
   "source": [
    "# list of repositorie's names\n",
    "\n",
    "repos_name = []\n",
    "\n",
    "while True:\n",
    "    for page in repos_list:\n",
    "        for repo in page:\n",
    "            repos_name.append(repo['name'])\n",
    "    \n",
    "    break\n",
    "            \n",
    "repos_name[:12]"
   ]
  },
  {
   "cell_type": "code",
   "execution_count": null,
   "metadata": {},
   "outputs": [],
   "source": [
    "repos_list[0][1]['language']"
   ]
  },
  {
   "cell_type": "code",
   "execution_count": null,
   "metadata": {},
   "outputs": [],
   "source": [
    "# list of repositorie's language uses\n",
    "\n",
    "repos_language = []\n",
    "\n",
    "for page in repos_list:\n",
    "    for repo in page:\n",
    "        repos_language.append(repo['language'])\n",
    "    \n",
    "            \n",
    "repos_language[:9]"
   ]
  },
  {
   "cell_type": "code",
   "execution_count": 14,
   "metadata": {},
   "outputs": [],
   "source": [
    "# library to manipulate and analyze data\n",
    "import pandas as pd\n",
    "\n",
    "# to create a DataFrame, each column is a key, and each key's values row are a list of rows\n",
    "data = {'repo_names': repos_name, 'repos_language': repos_language}\n",
    "\n",
    "df = pd.DataFrame(data)\n",
    "\n",
    "# transforms a DataFrame into a dataset\n",
    "df.to_csv('dataset_amazon_repos_name_and_language.csv')"
   ]
  },
  {
   "cell_type": "code",
   "execution_count": null,
   "metadata": {},
   "outputs": [],
   "source": [
    "# endpoint to create a repository on github\n",
    "\n",
    "api_base_url = 'https://api.github.com'\n",
    "\n",
    "\n",
    "url = f'{api_base_url}/user/repos'\n",
    "url"
   ]
  },
  {
   "cell_type": "code",
   "execution_count": null,
   "metadata": {},
   "outputs": [],
   "source": [
    "# to create a repository a json parameter is needed, including 'name', 'description' and 'private' keys/values, these dictionary keys can be found in github docs\n",
    "\n",
    "data = {\n",
    "    'name': 'alura.python-e-apis-conhecendo-a-biblioteca-requests-file',\n",
    "    'description': 'repositorio para armezenar: dataset_amazon_repos_name_and_language.csv',\n",
    "    'private': False\n",
    "}\n",
    "\n",
    "# the method used to create a repository is 'post' (check de docs)\n",
    "req = requests.post(url, headers=headers, json=data)\n",
    "\n",
    "\n",
    "# after it being created, it can't be created again\n",
    "req.status_code"
   ]
  },
  {
   "cell_type": "code",
   "execution_count": 17,
   "metadata": {},
   "outputs": [],
   "source": [
    "# that python native library is used to encode and decode files into binary\n",
    "import base64\n",
    "\n",
    "path = 'dataset_amazon_repos_name_and_language.csv'\n",
    "\n",
    "# some apis needs an enconded file because it is easier to transfer through the internet\n",
    "with open(path, 'rb') as file:\n",
    "    enconded_content = base64.b64encode(file.read())"
   ]
  },
  {
   "cell_type": "code",
   "execution_count": null,
   "metadata": {},
   "outputs": [],
   "source": [
    "# endpoint to insert a content into a github repository\n",
    "\n",
    "api_base_url = 'https://api.github.com'\n",
    "owner = 'dihparaguai'\n",
    "repo = 'alura.python-e-apis-conhecendo-a-biblioteca-requests-files'\n",
    "path = 'dataset_amazon_repos_name_and_language.csv'\n",
    "\n",
    "url = f'{api_base_url}/repos/{owner}/{repo}/contents/{path}'\n",
    "url"
   ]
  },
  {
   "cell_type": "code",
   "execution_count": null,
   "metadata": {},
   "outputs": [],
   "source": [
    "# to input a file into a repository, a json parameter is needed, including 'message' (commit) and 'content' keys/values, these dictionary keys can be found in github docs\n",
    "\n",
    "# the content must be decoded using our charset 'utf-8'\n",
    "data = {\n",
    "    'message': 'adicionar dataset_amazon_repos_name_and_language.csv',\n",
    "    'content': enconded_content.decode('utf-8')\n",
    "}\n",
    "\n",
    "# the method used to input a file into a repository is 'put' (check de docs)\n",
    "req = requests.put(url, headers=headers, json=data)\n",
    "\n",
    "# after it being created, it can't be created again\n",
    "req.status_code"
   ]
  }
 ],
 "metadata": {
  "kernelspec": {
   "display_name": ".venv",
   "language": "python",
   "name": "python3"
  },
  "language_info": {
   "codemirror_mode": {
    "name": "ipython",
    "version": 3
   },
   "file_extension": ".py",
   "mimetype": "text/x-python",
   "name": "python",
   "nbconvert_exporter": "python",
   "pygments_lexer": "ipython3",
   "version": "3.10.12"
  }
 },
 "nbformat": 4,
 "nbformat_minor": 2
}
