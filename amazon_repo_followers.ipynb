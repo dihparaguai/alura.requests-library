{
 "cells": [
  {
   "cell_type": "code",
   "execution_count": null,
   "metadata": {},
   "outputs": [],
   "source": [
    "# full url to resquet\n",
    "api_base_url = 'https://api.github.com'\n",
    "user = 'amzn'\n",
    "endpoint = 'followers'\n",
    "url = f'{api_base_url}/users/{user}/{endpoint}'\n",
    "url"
   ]
  },
  {
   "cell_type": "code",
   "execution_count": null,
   "metadata": {},
   "outputs": [],
   "source": [
    "import requests\n",
    "\n",
    "# to do more requests on the github API, a token is needed, it's provided in 'dev_settings' option from github site   \n",
    "from private_config import PRIVATE_TOKEN\n",
    "token = f'Bearer {PRIVATE_TOKEN}'\n",
    "version = '2022-11-28'\n",
    "headers = {}\n",
    "\n",
    "headers['X-GitHub-Api-Version'] = version\n",
    "headers['Authorization'] = token\n",
    "\n",
    "r = requests.get(url, headers=headers)\n",
    "r"
   ]
  },
  {
   "cell_type": "code",
   "execution_count": null,
   "metadata": {},
   "outputs": [],
   "source": [
    "followers_list = []\n",
    "followers_qtd = 0\n",
    "page = 1\n",
    "\n",
    "while True:\n",
    "\n",
    "    try:\n",
    "        # try requesting\n",
    "        url_page = f'{url}?page={page}'\n",
    "        res = requests.get(url_page, headers=headers).json()\n",
    "\n",
    "        # stop criteria\n",
    "        if not res:\n",
    "            break\n",
    "        \n",
    "        followers_list.append(res)\n",
    "        page += 1\n",
    "\n",
    "    except:\n",
    "        break\n",
    "\n",
    "# count how many followers the api has\n",
    "for i in range(0, len(followers_list)):\n",
    "    followers_qtd += len(followers_list[i])\n",
    "\n",
    "print(f'''\n",
    "qtd de paginas: {len(followers_list)}\n",
    "qtd de seguidores: {followers_qtd}''')"
   ]
  },
  {
   "cell_type": "code",
   "execution_count": null,
   "metadata": {},
   "outputs": [],
   "source": [
    "followers_list[0][0]['login']"
   ]
  },
  {
   "cell_type": "code",
   "execution_count": null,
   "metadata": {},
   "outputs": [],
   "source": [
    "followers_name = []\n",
    "\n",
    "for page in followers_list:\n",
    "    for repo in page:\n",
    "        followers_name.append(repo['login'])\n",
    "        \n",
    "followers_name[:5]     \n"
   ]
  },
  {
   "cell_type": "code",
   "execution_count": 14,
   "metadata": {},
   "outputs": [],
   "source": [
    "import pandas as pd\n",
    "\n",
    "df = pd.DataFrame()\n",
    "\n",
    "# each key and list of values if a column\n",
    "df['followers_name'] = followers_name\n",
    "\n",
    "df.to_csv('dataset_amazon_followers_name.csv')"
   ]
  }
 ],
 "metadata": {
  "kernelspec": {
   "display_name": ".venv",
   "language": "python",
   "name": "python3"
  },
  "language_info": {
   "codemirror_mode": {
    "name": "ipython",
    "version": 3
   },
   "file_extension": ".py",
   "mimetype": "text/x-python",
   "name": "python",
   "nbconvert_exporter": "python",
   "pygments_lexer": "ipython3",
   "version": "3.10.12"
  }
 },
 "nbformat": 4,
 "nbformat_minor": 2
}
