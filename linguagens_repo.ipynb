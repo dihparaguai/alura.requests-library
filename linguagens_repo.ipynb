{
 "cells": [
  {
   "cell_type": "code",
   "execution_count": null,
   "metadata": {},
   "outputs": [],
   "source": [
    "import requests\n",
    "# do a get request to the github api\n",
    "r = requests.get('http://api.github.com/events')\n",
    "\n",
    "# for standard output, print the status code of the response\n",
    "r"
   ]
  },
  {
   "cell_type": "code",
   "execution_count": null,
   "metadata": {},
   "outputs": [],
   "source": [
    "# show the content of the response\n",
    "r.json()"
   ]
  },
  {
   "cell_type": "code",
   "execution_count": null,
   "metadata": {},
   "outputs": [],
   "source": [
    "# in github api, we can see the version of the api changing the endpoint\n",
    "r = requests.get('https://api.github.com/versions')\n",
    "\n",
    "# parameter that shows the status code\n",
    "r.status_code"
   ]
  },
  {
   "cell_type": "code",
   "execution_count": null,
   "metadata": {},
   "outputs": [],
   "source": [
    "# show de version of the api\n",
    "r.json()"
   ]
  },
  {
   "cell_type": "code",
   "execution_count": null,
   "metadata": {},
   "outputs": [],
   "source": [
    "# show the url of the request\n",
    "r.url"
   ]
  },
  {
   "cell_type": "code",
   "execution_count": null,
   "metadata": {},
   "outputs": [],
   "source": [
    "# my github profile api request\n",
    "r = requests.get('https://api.github.com/users/dihparaguai')\n",
    "r.json()"
   ]
  },
  {
   "cell_type": "code",
   "execution_count": null,
   "metadata": {},
   "outputs": [],
   "source": [
    "# get the atributtes of the response using the key of the json\n",
    "name = r.json()['name']\n",
    "user = r.json()['login']\n",
    "qtd_repo = r.json()['public_repos']\n",
    "created_at = r.json()['created_at']\n",
    "\n",
    "# print the atributtes\n",
    "print(f'Nome: {name}\\nUsuário: {user}\\nQuantidade de repositórios: {qtd_repo}\\nCriado em: {created_at}')"
   ]
  }
 ],
 "metadata": {
  "kernelspec": {
   "display_name": ".venv",
   "language": "python",
   "name": "python3"
  },
  "language_info": {
   "codemirror_mode": {
    "name": "ipython",
    "version": 3
   },
   "file_extension": ".py",
   "mimetype": "text/x-python",
   "name": "python",
   "nbconvert_exporter": "python",
   "pygments_lexer": "ipython3",
   "version": "3.10.12"
  }
 },
 "nbformat": 4,
 "nbformat_minor": 2
}
