{
 "cells": [
  {
   "cell_type": "code",
   "execution_count": null,
   "metadata": {},
   "outputs": [],
   "source": [
    "import requests\n",
    "\n",
    "# to do more requests on the github API, a token is needed, it's provided in 'dev_settings' option from github site  \n",
    "from my_config import PRIVATE_TOKEN\n",
    "token = f'Bearer {PRIVATE_TOKEN}'\n",
    "version = '2022-11-28'\n",
    "headers = {}\n",
    "\n",
    "headers['X-GitHub-Api-Version'] = version\n",
    "headers['Authorization'] = token\n",
    "\n",
    "# my github profile api request\n",
    "r = requests.get('https://api.github.com/users/dihparaguai', headers=headers)\n",
    "r"
   ]
  },
  {
   "cell_type": "code",
   "execution_count": null,
   "metadata": {},
   "outputs": [],
   "source": [
    "# get the atributtes of the response using the key of the json\n",
    "name = r.json()['name']\n",
    "user = r.json()['login']\n",
    "qtd_repo = r.json()['public_repos']\n",
    "created_at = r.json()['created_at']\n",
    "\n",
    "# print the atributtes\n",
    "print(f'Nome: {name}\\nUsuário: {user}\\nQuantidade de repositórios: {qtd_repo}\\nCriado em: {created_at}')"
   ]
  }
 ],
 "metadata": {
  "kernelspec": {
   "display_name": ".venv",
   "language": "python",
   "name": "python3"
  },
  "language_info": {
   "codemirror_mode": {
    "name": "ipython",
    "version": 3
   },
   "file_extension": ".py",
   "mimetype": "text/x-python",
   "name": "python",
   "nbconvert_exporter": "python",
   "pygments_lexer": "ipython3",
   "version": "3.10.12"
  }
 },
 "nbformat": 4,
 "nbformat_minor": 2
}
